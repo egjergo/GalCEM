{
 "cells": [
  {
   "cell_type": "code",
   "execution_count": 1,
   "metadata": {},
   "outputs": [],
   "source": [
    "import numpy as np\n",
    "from galcem import Inputs,OneZone"
   ]
  },
  {
   "cell_type": "code",
   "execution_count": 2,
   "metadata": {},
   "outputs": [
    {
     "name": "stdout",
     "output_type": "stream",
     "text": [
      "Package lodaded in 2.597821 seconds.\n"
     ]
    }
   ],
   "source": [
    "o = OneZone(Inputs())"
   ]
  },
  {
   "cell_type": "markdown",
   "metadata": {},
   "source": [
    "## Integration grids"
   ]
  },
  {
   "cell_type": "markdown",
   "metadata": {},
   "source": [
    "While time_uniform and mass_uniform are fixed for every run, the grids are re-mapped at every timestep to account for the evolution in metallicity. \n",
    "This is an example of what the grids look like.\n",
    "\n",
    "Pick a metallicity:"
   ]
  },
  {
   "cell_type": "code",
   "execution_count": 3,
   "metadata": {},
   "outputs": [],
   "source": [
    "Z_example = 0.002"
   ]
  },
  {
   "cell_type": "markdown",
   "metadata": {},
   "source": [
    "Your mass vector is "
   ]
  },
  {
   "cell_type": "code",
   "execution_count": 4,
   "metadata": {},
   "outputs": [
    {
     "data": {
      "text/plain": [
       "array([  0.6,   1.2,   1.8,   2.4,   3. ,   3.6,   4.2,   4.8,   5.4,\n",
       "         6. ,   6.6,   7.2,   7.8,   8.4,   9. ,   9.6,  10.2,  10.8,\n",
       "        11.4,  12. ,  12.6,  13.2,  13.8,  14.4,  15. ,  15.6,  16.2,\n",
       "        16.8,  17.4,  18. ,  18.6,  19.2,  19.8,  20.4,  21. ,  21.6,\n",
       "        22.2,  22.8,  23.4,  24. ,  24.6,  25.2,  25.8,  26.4,  27. ,\n",
       "        27.6,  28.2,  28.8,  29.4,  30. ,  30.6,  31.2,  31.8,  32.4,\n",
       "        33. ,  33.6,  34.2,  34.8,  35.4,  36. ,  36.6,  37.2,  37.8,\n",
       "        38.4,  39. ,  39.6,  40.2,  40.8,  41.4,  42. ,  42.6,  43.2,\n",
       "        43.8,  44.4,  45. ,  45.6,  46.2,  46.8,  47.4,  48. ,  48.6,\n",
       "        49.2,  49.8,  50.4,  51. ,  51.6,  52.2,  52.8,  53.4,  54. ,\n",
       "        54.6,  55.2,  55.8,  56.4,  57. ,  57.6,  58.2,  58.8,  59.4,\n",
       "        60. ,  60.6,  61.2,  61.8,  62.4,  63. ,  63.6,  64.2,  64.8,\n",
       "        65.4,  66. ,  66.6,  67.2,  67.8,  68.4,  69. ,  69.6,  70.2,\n",
       "        70.8,  71.4,  72. ,  72.6,  73.2,  73.8,  74.4,  75. ,  75.6,\n",
       "        76.2,  76.8,  77.4,  78. ,  78.6,  79.2,  79.8,  80.4,  81. ,\n",
       "        81.6,  82.2,  82.8,  83.4,  84. ,  84.6,  85.2,  85.8,  86.4,\n",
       "        87. ,  87.6,  88.2,  88.8,  89.4,  90. ,  90.6,  91.2,  91.8,\n",
       "        92.4,  93. ,  93.6,  94.2,  94.8,  95.4,  96. ,  96.6,  97.2,\n",
       "        97.8,  98.4,  99. ,  99.6, 100.2, 100.8, 101.4, 102. , 102.6,\n",
       "       103.2, 103.8, 104.4, 105. , 105.6, 106.2, 106.8, 107.4, 108. ,\n",
       "       108.6, 109.2, 109.8, 110.4, 111. , 111.6, 112.2, 112.8, 113.4,\n",
       "       114. , 114.6, 115.2, 115.8, 116.4, 117. , 117.6, 118.2, 118.8,\n",
       "       119.4, 120. ])"
      ]
     },
     "execution_count": 4,
     "metadata": {},
     "output_type": "execute_result"
    }
   ],
   "source": [
    "o.mass_uniform"
   ]
  },
  {
   "cell_type": "markdown",
   "metadata": {},
   "source": [
    "While your time vector is "
   ]
  },
  {
   "cell_type": "code",
   "execution_count": 5,
   "metadata": {},
   "outputs": [
    {
     "data": {
      "text/plain": [
       "array([3.110000e-03, 1.311000e-02, 2.311000e-02, ..., 1.377311e+01,\n",
       "       1.378311e+01, 1.379311e+01])"
      ]
     },
     "execution_count": 5,
     "metadata": {},
     "output_type": "execute_result"
    }
   ],
   "source": [
    "o.time_uniform"
   ]
  },
  {
   "cell_type": "markdown",
   "metadata": {},
   "source": [
    "The mass grid sampled from your time vector is"
   ]
  },
  {
   "cell_type": "code",
   "execution_count": 6,
   "metadata": {},
   "outputs": [
    {
     "ename": "ValueError",
     "evalue": "A value in x_new is below the interpolation range.",
     "output_type": "error",
     "traceback": [
      "\u001b[0;31m---------------------------------------------------------------------------\u001b[0m",
      "\u001b[0;31mValueError\u001b[0m                                Traceback (most recent call last)",
      "\u001b[0;32m/var/folders/rz/_ktvltjs49v_z33w0h6njx5w0000gn/T/ipykernel_1521/2848073039.py\u001b[0m in \u001b[0;36m<module>\u001b[0;34m\u001b[0m\n\u001b[0;32m----> 1\u001b[0;31m \u001b[0mmass_grid\u001b[0m \u001b[0;34m=\u001b[0m \u001b[0mo\u001b[0m\u001b[0;34m.\u001b[0m\u001b[0mlifetime_class\u001b[0m\u001b[0;34m.\u001b[0m\u001b[0minterp_stellar_masses\u001b[0m\u001b[0;34m(\u001b[0m\u001b[0mZ_example\u001b[0m\u001b[0;34m)\u001b[0m\u001b[0;34m(\u001b[0m\u001b[0mo\u001b[0m\u001b[0;34m.\u001b[0m\u001b[0mtime_uniform\u001b[0m\u001b[0;34m)\u001b[0m\u001b[0;34m\u001b[0m\u001b[0;34m\u001b[0m\u001b[0m\n\u001b[0m\u001b[1;32m      2\u001b[0m \u001b[0mmass_grid\u001b[0m\u001b[0;34m\u001b[0m\u001b[0;34m\u001b[0m\u001b[0m\n",
      "\u001b[0;32m~/miniconda3/envs/gce/lib/python3.9/site-packages/scipy/interpolate/polyint.py\u001b[0m in \u001b[0;36m__call__\u001b[0;34m(self, x)\u001b[0m\n\u001b[1;32m     76\u001b[0m         \"\"\"\n\u001b[1;32m     77\u001b[0m         \u001b[0mx\u001b[0m\u001b[0;34m,\u001b[0m \u001b[0mx_shape\u001b[0m \u001b[0;34m=\u001b[0m \u001b[0mself\u001b[0m\u001b[0;34m.\u001b[0m\u001b[0m_prepare_x\u001b[0m\u001b[0;34m(\u001b[0m\u001b[0mx\u001b[0m\u001b[0;34m)\u001b[0m\u001b[0;34m\u001b[0m\u001b[0;34m\u001b[0m\u001b[0m\n\u001b[0;32m---> 78\u001b[0;31m         \u001b[0my\u001b[0m \u001b[0;34m=\u001b[0m \u001b[0mself\u001b[0m\u001b[0;34m.\u001b[0m\u001b[0m_evaluate\u001b[0m\u001b[0;34m(\u001b[0m\u001b[0mx\u001b[0m\u001b[0;34m)\u001b[0m\u001b[0;34m\u001b[0m\u001b[0;34m\u001b[0m\u001b[0m\n\u001b[0m\u001b[1;32m     79\u001b[0m         \u001b[0;32mreturn\u001b[0m \u001b[0mself\u001b[0m\u001b[0;34m.\u001b[0m\u001b[0m_finish_y\u001b[0m\u001b[0;34m(\u001b[0m\u001b[0my\u001b[0m\u001b[0;34m,\u001b[0m \u001b[0mx_shape\u001b[0m\u001b[0;34m)\u001b[0m\u001b[0;34m\u001b[0m\u001b[0;34m\u001b[0m\u001b[0m\n\u001b[1;32m     80\u001b[0m \u001b[0;34m\u001b[0m\u001b[0m\n",
      "\u001b[0;32m~/miniconda3/envs/gce/lib/python3.9/site-packages/scipy/interpolate/interpolate.py\u001b[0m in \u001b[0;36m_evaluate\u001b[0;34m(self, x_new)\u001b[0m\n\u001b[1;32m    682\u001b[0m         \u001b[0my_new\u001b[0m \u001b[0;34m=\u001b[0m \u001b[0mself\u001b[0m\u001b[0;34m.\u001b[0m\u001b[0m_call\u001b[0m\u001b[0;34m(\u001b[0m\u001b[0mself\u001b[0m\u001b[0;34m,\u001b[0m \u001b[0mx_new\u001b[0m\u001b[0;34m)\u001b[0m\u001b[0;34m\u001b[0m\u001b[0;34m\u001b[0m\u001b[0m\n\u001b[1;32m    683\u001b[0m         \u001b[0;32mif\u001b[0m \u001b[0;32mnot\u001b[0m \u001b[0mself\u001b[0m\u001b[0;34m.\u001b[0m\u001b[0m_extrapolate\u001b[0m\u001b[0;34m:\u001b[0m\u001b[0;34m\u001b[0m\u001b[0;34m\u001b[0m\u001b[0m\n\u001b[0;32m--> 684\u001b[0;31m             \u001b[0mbelow_bounds\u001b[0m\u001b[0;34m,\u001b[0m \u001b[0mabove_bounds\u001b[0m \u001b[0;34m=\u001b[0m \u001b[0mself\u001b[0m\u001b[0;34m.\u001b[0m\u001b[0m_check_bounds\u001b[0m\u001b[0;34m(\u001b[0m\u001b[0mx_new\u001b[0m\u001b[0;34m)\u001b[0m\u001b[0;34m\u001b[0m\u001b[0;34m\u001b[0m\u001b[0m\n\u001b[0m\u001b[1;32m    685\u001b[0m             \u001b[0;32mif\u001b[0m \u001b[0mlen\u001b[0m\u001b[0;34m(\u001b[0m\u001b[0my_new\u001b[0m\u001b[0;34m)\u001b[0m \u001b[0;34m>\u001b[0m \u001b[0;36m0\u001b[0m\u001b[0;34m:\u001b[0m\u001b[0;34m\u001b[0m\u001b[0;34m\u001b[0m\u001b[0m\n\u001b[1;32m    686\u001b[0m                 \u001b[0;31m# Note fill_value must be broadcast up to the proper size\u001b[0m\u001b[0;34m\u001b[0m\u001b[0;34m\u001b[0m\u001b[0m\n",
      "\u001b[0;32m~/miniconda3/envs/gce/lib/python3.9/site-packages/scipy/interpolate/interpolate.py\u001b[0m in \u001b[0;36m_check_bounds\u001b[0;34m(self, x_new)\u001b[0m\n\u001b[1;32m    711\u001b[0m         \u001b[0;31m# !! Could provide more information about which values are out of bounds\u001b[0m\u001b[0;34m\u001b[0m\u001b[0;34m\u001b[0m\u001b[0m\n\u001b[1;32m    712\u001b[0m         \u001b[0;32mif\u001b[0m \u001b[0mself\u001b[0m\u001b[0;34m.\u001b[0m\u001b[0mbounds_error\u001b[0m \u001b[0;32mand\u001b[0m \u001b[0mbelow_bounds\u001b[0m\u001b[0;34m.\u001b[0m\u001b[0many\u001b[0m\u001b[0;34m(\u001b[0m\u001b[0;34m)\u001b[0m\u001b[0;34m:\u001b[0m\u001b[0;34m\u001b[0m\u001b[0;34m\u001b[0m\u001b[0m\n\u001b[0;32m--> 713\u001b[0;31m             raise ValueError(\"A value in x_new is below the interpolation \"\n\u001b[0m\u001b[1;32m    714\u001b[0m                              \"range.\")\n\u001b[1;32m    715\u001b[0m         \u001b[0;32mif\u001b[0m \u001b[0mself\u001b[0m\u001b[0;34m.\u001b[0m\u001b[0mbounds_error\u001b[0m \u001b[0;32mand\u001b[0m \u001b[0mabove_bounds\u001b[0m\u001b[0;34m.\u001b[0m\u001b[0many\u001b[0m\u001b[0;34m(\u001b[0m\u001b[0;34m)\u001b[0m\u001b[0;34m:\u001b[0m\u001b[0;34m\u001b[0m\u001b[0;34m\u001b[0m\u001b[0m\n",
      "\u001b[0;31mValueError\u001b[0m: A value in x_new is below the interpolation range."
     ]
    }
   ],
   "source": [
    "mass_grid = o.lifetime_class.interp_stellar_masses(Z_example)(o.time_uniform)\n",
    "mass_grid"
   ]
  },
  {
   "cell_type": "code",
   "execution_count": 5,
   "metadata": {},
   "outputs": [
    {
     "name": "stdout",
     "output_type": "stream",
     "text": [
      "[120.1         17.22340426  11.62554745 ...   0.59001046   0.59000657\n",
      "   0.59000268]\n"
     ]
    }
   ],
   "source": [
    "mass_grid = o.lifetime_class.interp_stellar_masses(Z_example)(o.time_uniform)\n",
    "print(mass_grid)"
   ]
  },
  {
   "cell_type": "markdown",
   "metadata": {},
   "source": [
    "Similarly, the lifetime sampled from your newly computed mass_grid is:"
   ]
  },
  {
   "cell_type": "code",
   "execution_count": 6,
   "metadata": {},
   "outputs": [
    {
     "name": "stdout",
     "output_type": "stream",
     "text": [
      "[3.110000e-03 1.311000e-02 2.311000e-02 ... 7.917311e+01 7.918311e+01\n",
      " 7.919311e+01]\n"
     ]
    }
   ],
   "source": [
    "lifetime_grid = o.lifetime_class.interp_stellar_lifetimes(Z_example)(mass_grid)\n",
    "print(lifetime_grid)"
   ]
  },
  {
   "cell_type": "code",
   "execution_count": 7,
   "metadata": {},
   "outputs": [
    {
     "data": {
      "text/plain": [
       "1.4210854715202004e-13"
      ]
     },
     "execution_count": 7,
     "metadata": {},
     "output_type": "execute_result"
    }
   ],
   "source": [
    "time_error = np.abs(o.time_uniform - lifetime_grid)\n",
    "np.max(time_error)"
   ]
  },
  {
   "cell_type": "markdown",
   "metadata": {},
   "source": [
    "Repeating a similar operation in order to get lifetimes from mass_uniform:"
   ]
  },
  {
   "cell_type": "code",
   "execution_count": 8,
   "metadata": {},
   "outputs": [
    {
     "name": "stdout",
     "output_type": "stream",
     "text": [
      "[5.35000e+01 3.52000e+00 1.25000e+00 6.94400e-01 3.67000e-01 2.56000e-01\n",
      " 1.67800e-01 1.25200e-01 9.70800e-02 7.62000e-02 6.41400e-02 5.40000e-02\n",
      " 4.77000e-02 4.14000e-02 3.51000e-02 3.23600e-02 2.96200e-02 2.68800e-02\n",
      " 2.41400e-02 2.14000e-02 2.01600e-02 1.89200e-02 1.76800e-02 1.64400e-02\n",
      " 1.52000e-02 1.46360e-02 1.40720e-02 1.35080e-02 1.29440e-02 1.23800e-02\n",
      " 1.18160e-02 1.12520e-02 1.06880e-02 1.03540e-02 1.01350e-02 9.91600e-03\n",
      " 9.69700e-03 9.47800e-03 9.25900e-03 9.04000e-03 8.82100e-03 8.60200e-03\n",
      " 8.38300e-03 8.16400e-03 7.94500e-03 7.72600e-03 7.50700e-03 7.28800e-03\n",
      " 7.06900e-03 6.85000e-03 6.76540e-03 6.68080e-03 6.59620e-03 6.51160e-03\n",
      " 6.42700e-03 6.34240e-03 6.25780e-03 6.17320e-03 6.08860e-03 6.00400e-03\n",
      " 5.91940e-03 5.83480e-03 5.75020e-03 5.66560e-03 5.58100e-03 5.49640e-03\n",
      " 5.42750e-03 5.39000e-03 5.35250e-03 5.31500e-03 5.27750e-03 5.24000e-03\n",
      " 5.20250e-03 5.16500e-03 5.12750e-03 5.09000e-03 5.05250e-03 5.01500e-03\n",
      " 4.97750e-03 4.94000e-03 4.90250e-03 4.86500e-03 4.82750e-03 4.79000e-03\n",
      " 4.75250e-03 4.71500e-03 4.67750e-03 4.64000e-03 4.60250e-03 4.56500e-03\n",
      " 4.52750e-03 4.49000e-03 4.45250e-03 4.41500e-03 4.37750e-03 4.34000e-03\n",
      " 4.30250e-03 4.26500e-03 4.22750e-03 4.19000e-03 4.17785e-03 4.16570e-03\n",
      " 4.15355e-03 4.14140e-03 4.12925e-03 4.11710e-03 4.10495e-03 4.09280e-03\n",
      " 4.08065e-03 4.06850e-03 4.05635e-03 4.04420e-03 4.03205e-03 4.01990e-03\n",
      " 4.00775e-03 3.99560e-03 3.98345e-03 3.97130e-03 3.95915e-03 3.94700e-03\n",
      " 3.93485e-03 3.92270e-03 3.91055e-03 3.89840e-03 3.88625e-03 3.87410e-03\n",
      " 3.86195e-03 3.84980e-03 3.83765e-03 3.82550e-03 3.81335e-03 3.80120e-03\n",
      " 3.78905e-03 3.77690e-03 3.76475e-03 3.75260e-03 3.74045e-03 3.72830e-03\n",
      " 3.71615e-03 3.70400e-03 3.69185e-03 3.67970e-03 3.66755e-03 3.65540e-03\n",
      " 3.64325e-03 3.63110e-03 3.61895e-03 3.60680e-03 3.59465e-03 3.58250e-03\n",
      " 3.57035e-03 3.55820e-03 3.54605e-03 3.53390e-03 3.52175e-03 3.50960e-03\n",
      " 3.49745e-03 3.48530e-03 3.47315e-03 3.46100e-03 3.44885e-03 3.43670e-03\n",
      " 3.42455e-03 3.41240e-03 3.40025e-03 3.38810e-03 3.37850e-03 3.37400e-03\n",
      " 3.36950e-03 3.36500e-03 3.36050e-03 3.35600e-03 3.35150e-03 3.34700e-03\n",
      " 3.34250e-03 3.33800e-03 3.33350e-03 3.32900e-03 3.32450e-03 3.32000e-03\n",
      " 3.31550e-03 3.31100e-03 3.30650e-03 3.30200e-03 3.29750e-03 3.29300e-03\n",
      " 3.28850e-03 3.28400e-03 3.27950e-03 3.27500e-03 3.27050e-03 3.26600e-03\n",
      " 3.26150e-03 3.25700e-03 3.25250e-03 3.24800e-03 3.24350e-03 3.23900e-03\n",
      " 3.23450e-03 3.23000e-03]\n"
     ]
    }
   ],
   "source": [
    "tau_grid = o.lifetime_class.interp_stellar_lifetimes(Z_example)(o.mass_uniform)\n",
    "print(tau_grid)"
   ]
  },
  {
   "cell_type": "code",
   "execution_count": 9,
   "metadata": {},
   "outputs": [
    {
     "name": "stdout",
     "output_type": "stream",
     "text": [
      "[  0.6   1.2   1.8   2.4   3.    3.6   4.2   4.8   5.4   6.    6.6   7.2\n",
      "   7.8   8.4   9.    9.6  10.2  10.8  11.4  12.   12.6  13.2  13.8  14.4\n",
      "  15.   15.6  16.2  16.8  17.4  18.   18.6  19.2  19.8  20.4  21.   21.6\n",
      "  22.2  22.8  23.4  24.   24.6  25.2  25.8  26.4  27.   27.6  28.2  28.8\n",
      "  29.4  30.   30.6  31.2  31.8  32.4  33.   33.6  34.2  34.8  35.4  36.\n",
      "  36.6  37.2  37.8  38.4  39.   39.6  40.2  40.8  41.4  42.   42.6  43.2\n",
      "  43.8  44.4  45.   45.6  46.2  46.8  47.4  48.   48.6  49.2  49.8  50.4\n",
      "  51.   51.6  52.2  52.8  53.4  54.   54.6  55.2  55.8  56.4  57.   57.6\n",
      "  58.2  58.8  59.4  60.   60.6  61.2  61.8  62.4  63.   63.6  64.2  64.8\n",
      "  65.4  66.   66.6  67.2  67.8  68.4  69.   69.6  70.2  70.8  71.4  72.\n",
      "  72.6  73.2  73.8  74.4  75.   75.6  76.2  76.8  77.4  78.   78.6  79.2\n",
      "  79.8  80.4  81.   81.6  82.2  82.8  83.4  84.   84.6  85.2  85.8  86.4\n",
      "  87.   87.6  88.2  88.8  89.4  90.   90.6  91.2  91.8  92.4  93.   93.6\n",
      "  94.2  94.8  95.4  96.   96.6  97.2  97.8  98.4  99.   99.6 100.2 100.8\n",
      " 101.4 102.  102.6 103.2 103.8 104.4 105.  105.6 106.2 106.8 107.4 108.\n",
      " 108.6 109.2 109.8 110.4 111.  111.6 112.2 112.8 113.4 114.  114.6 115.2\n",
      " 115.8 116.4 117.  117.6 118.2 118.8 119.4 120. ]\n"
     ]
    }
   ],
   "source": [
    "m_grid = o.lifetime_class.interp_stellar_masses(Z_example)(tau_grid)\n",
    "print(m_grid)"
   ]
  },
  {
   "cell_type": "code",
   "execution_count": 10,
   "metadata": {},
   "outputs": [
    {
     "data": {
      "text/plain": [
       "2.842170943040401e-14"
      ]
     },
     "execution_count": 10,
     "metadata": {},
     "output_type": "execute_result"
    }
   ],
   "source": [
    "mass_error = np.abs(o.mass_uniform - m_grid)\n",
    "np.max(mass_error)"
   ]
  }
 ],
 "metadata": {
  "kernelspec": {
   "display_name": "Python 3 (ipykernel)",
   "language": "python",
   "name": "python3"
  },
  "language_info": {
   "codemirror_mode": {
    "name": "ipython",
    "version": 3
   },
   "file_extension": ".py",
   "mimetype": "text/x-python",
   "name": "python",
   "nbconvert_exporter": "python",
   "pygments_lexer": "ipython3",
   "version": "3.9.7"
  }
 },
 "nbformat": 4,
 "nbformat_minor": 4
}
